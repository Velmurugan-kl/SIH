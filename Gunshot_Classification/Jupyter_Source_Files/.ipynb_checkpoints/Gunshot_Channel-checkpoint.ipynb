{
 "cells": [
  {
   "cell_type": "code",
   "execution_count": 3,
   "metadata": {},
   "outputs": [
    {
     "ename": "NameError",
     "evalue": "name '_name_' is not defined",
     "output_type": "error",
     "traceback": [
      "\u001b[1;31m---------------------------------------------------------------------------\u001b[0m",
      "\u001b[1;31mNameError\u001b[0m                                 Traceback (most recent call last)",
      "Cell \u001b[1;32mIn[3], line 61\u001b[0m\n\u001b[0;32m     58\u001b[0m     \u001b[38;5;28;01mreturn\u001b[39;00m predicted_class\n\u001b[0;32m     60\u001b[0m \u001b[38;5;66;03m# Example usage:\u001b[39;00m\n\u001b[1;32m---> 61\u001b[0m \u001b[38;5;28;01mif\u001b[39;00m \u001b[43m_name_\u001b[49m \u001b[38;5;241m==\u001b[39m \u001b[38;5;124m\"\u001b[39m\u001b[38;5;124m_main_\u001b[39m\u001b[38;5;124m\"\u001b[39m:\n\u001b[0;32m     62\u001b[0m     input_audio_path \u001b[38;5;241m=\u001b[39m \u001b[38;5;124m'\u001b[39m\u001b[38;5;124mSIH/Gunshot_Classification/Gunshot_Audio_Dataset/Gunshot_Audio_Dataset_Raw/AK-12/3 (1).wav\u001b[39m\u001b[38;5;124m'\u001b[39m\n\u001b[0;32m     63\u001b[0m     model_path \u001b[38;5;241m=\u001b[39m \u001b[38;5;124m'\u001b[39m\u001b[38;5;124mSIH/Gunshot_Classification/Jupyter_Source_Files/GunshotML.keras\u001b[39m\u001b[38;5;124m'\u001b[39m\n",
      "\u001b[1;31mNameError\u001b[0m: name '_name_' is not defined"
     ]
    }
   ],
   "source": [
    "import librosa\n",
    "import numpy as np\n",
    "import tensorflow as tf\n",
    "import os\n",
    "import matplotlib.pyplot as plt\n",
    "from tensorflow.keras.preprocessing import image\n",
    "\n",
    "def normalize_audio(y):\n",
    "    \"\"\"Normalize the audio to a range of -1 to 1.\"\"\"\n",
    "    return y / np.max(np.abs(y))\n",
    "\n",
    "def preprocess_audio(input_audio_path, target_sr=44100):\n",
    "    # Load the audio file with the original sampling rate\n",
    "    y, sr = librosa.load(input_audio_path, sr=None)\n",
    "    \n",
    "    # Resample the audio to the target sampling rate if necessary\n",
    "    if sr != target_sr:\n",
    "        y = librosa.resample(y, orig_sr=sr, target_sr=target_sr)\n",
    "    \n",
    "    # Normalize the audio volume\n",
    "    y_normalized = normalize_audio(y)\n",
    "    \n",
    "    # Create the spectrogram\n",
    "    spectrogram = librosa.feature.melspectrogram(y=y_normalized, sr=target_sr)\n",
    "    spectrogram_db = librosa.amplitude_to_db(spectrogram, ref=np.max)\n",
    "    \n",
    "    # Plot the spectrogram without axes\n",
    "    plt.figure(figsize=(2, 2))  # Size to match your desired input size\n",
    "    librosa.display.specshow(spectrogram_db, sr=target_sr, x_axis='time', y_axis='mel')\n",
    "    plt.axis('off')  # Remove axes for better formatting\n",
    "    \n",
    "    # Save the plot to a buffer and then load as an image\n",
    "    plt.savefig('temp_spectrogram.png', bbox_inches='tight', pad_inches=0)\n",
    "    plt.close()\n",
    "    \n",
    "    # Load the saved image as a numpy array\n",
    "    spectrogram_img = image.load_img('temp_spectrogram.png', target_size=(128, 128))\n",
    "    spectrogram_img = image.img_to_array(spectrogram_img)\n",
    "    spectrogram_img = np.expand_dims(spectrogram_img, axis=0)  # Add batch dimension\n",
    "    spectrogram_img = spectrogram_img / 255.0  # Normalize pixel values to [0, 1]\n",
    "    \n",
    "    # Optionally, remove the temporary file\n",
    "    os.remove('temp_spectrogram.png')\n",
    "    \n",
    "    return spectrogram_img\n",
    "\n",
    "def predict_gunshot(input_audio_path, model_path='GunshotML.keras'):\n",
    "    # Preprocess the audio file\n",
    "    spectrogram_img = preprocess_audio(input_audio_path)\n",
    "    \n",
    "    # Load the trained model\n",
    "    model = tf.keras.models.load_model(model_path)\n",
    "    \n",
    "    # Predict the gun type\n",
    "    predictions = model.predict(spectrogram_img)\n",
    "    predicted_class = np.argmax(predictions, axis=1)\n",
    "    \n",
    "    return predicted_class\n",
    "\n",
    "# Example usage:\n",
    "if _name_ == \"_main_\":\n",
    "    input_audio_path = 'SIH/Gunshot_Classification/Gunshot_Audio_Dataset/Gunshot_Audio_Dataset_Raw/AK-12/3 (1).wav'\n",
    "    model_path = 'SIH/Gunshot_Classification/Jupyter_Source_Files/GunshotML.keras'\n",
    "    \n",
    "    # Get the predicted gun type\n",
    "    predicted_class = predict_gunshot(input_audio_path, model_path)\n",
    "    \n",
    "    print(f\"The predicted gun type is: {predicted_class}\")"
   ]
  },
  {
   "cell_type": "code",
   "execution_count": null,
   "metadata": {},
   "outputs": [],
   "source": []
  }
 ],
 "metadata": {
  "kernelspec": {
   "display_name": "gunshot",
   "language": "python",
   "name": "python3"
  },
  "language_info": {
   "codemirror_mode": {
    "name": "ipython",
    "version": 3
   },
   "file_extension": ".py",
   "mimetype": "text/x-python",
   "name": "python",
   "nbconvert_exporter": "python",
   "pygments_lexer": "ipython3",
   "version": "3.8.19"
  }
 },
 "nbformat": 4,
 "nbformat_minor": 2
}
