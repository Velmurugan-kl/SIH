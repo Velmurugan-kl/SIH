{
 "cells": [
  {
   "cell_type": "code",
   "execution_count": 63,
   "id": "76c50d59-08b1-4ba6-af4b-0c873639f257",
   "metadata": {},
   "outputs": [],
   "source": [
    "import librosa\n",
    "import numpy as np\n",
    "import tensorflow as tf\n",
    "import os\n",
    "import matplotlib.pyplot as plt\n",
    "from tensorflow.keras.preprocessing import image\n"
   ]
  },
  {
   "cell_type": "code",
   "execution_count": 64,
   "id": "07dc4042-c810-4194-9af7-5ef3a20c006b",
   "metadata": {},
   "outputs": [],
   "source": [
    "#Audio conditional resampling\n",
    "import librosa\n",
    "import os\n",
    "import soundfile as sf\n",
    "\n",
    "def resample_audio(input_path, output_path, target_sr=44100):\n",
    "    # Load the audio file\n",
    "    audio, sr = librosa.load(input_path, sr=None)\n",
    "    \n",
    "    # Resample the audio to the target sampling rate\n",
    "    if sr != target_sr:\n",
    "        print(f\"The current sampling rate is different from the target sampling rate, The current sampling rate is {sr}\")\n",
    "        audio = librosa.resample(audio, orig_sr=sr, target_sr=target_sr)\n",
    "    \n",
    "    # Save the resampled audio\n",
    "    sf.write(output_path, audio, target_sr)\n",
    "\n",
    "    audio, new_sr = librosa.load(output_path, sr=None)\n",
    "    print(f\"The updated sampling rate is {new_sr}\")\n",
    "    \n"
   ]
  },
  {
   "cell_type": "code",
   "execution_count": 65,
   "id": "46ef014b-e89c-4bc8-b297-c5111b72b2f4",
   "metadata": {},
   "outputs": [
    {
     "name": "stdout",
     "output_type": "stream",
     "text": [
      "The current sampling rate is different from the target sampling rate, The current sampling rate is 48000\n",
      "The updated sampling rate is 44100\n",
      "Succesfully resampled.\n"
     ]
    }
   ],
   "source": [
    "raw_file_path = '../Gunshot_Audio_Dataset/Gunshot_Audio_Dataset_Raw/IMI Desert Eagle/2 (8).wav'\n",
    "sampling_made_consistent_path = 'sampling_made_consistent.wav'\n",
    "resample_audio(raw_file_path, sampling_made_consistent_path)\n",
    "print(\"Succesfully resampled.\")"
   ]
  },
  {
   "cell_type": "code",
   "execution_count": 66,
   "id": "54669a40-b793-40e1-ae77-6e7efcf7ebda",
   "metadata": {},
   "outputs": [],
   "source": [
    "import os\n",
    "import librosa\n",
    "import librosa.display\n",
    "import matplotlib.pyplot as plt\n",
    "import numpy as np\n",
    "import soundfile as sf\n",
    "\n",
    "def normalize_audio(y):\n",
    "    \"\"\"Normalize the audio to a range of -1 to 1.\"\"\"\n",
    "    return y / np.max(np.abs(y))"
   ]
  },
  {
   "cell_type": "code",
   "execution_count": 67,
   "id": "0dbd5f58-b5b1-47d5-9655-1000f5a79d06",
   "metadata": {},
   "outputs": [
    {
     "name": "stdout",
     "output_type": "stream",
     "text": [
      "Audio successfully normalized.\n"
     ]
    }
   ],
   "source": [
    "y, sr = librosa.load(sampling_made_consistent_path, sr=44100)\n",
    "\n",
    "sampling_and_volume_normalized_path = 'sampling_and_volume_normalized.wav'\n",
    "sf.write(sampling_and_volume_normalized_path, normalize_audio(y), sr)\n",
    "print(\"Audio successfully normalized.\")"
   ]
  },
  {
   "cell_type": "code",
   "execution_count": 74,
   "id": "3e0596de-f44d-45db-9d2a-a34975b3d116",
   "metadata": {},
   "outputs": [],
   "source": [
    "import os\n",
    "import librosa\n",
    "import librosa.display\n",
    "import matplotlib.pyplot as plt\n",
    "import numpy as np\n",
    "\n",
    "def create_spectrogram(sampling_and_volume_normalized_path):\n",
    "    # Load the audio file with a sampling rate of 44100 Hz\n",
    "    y, sr = librosa.load(sampling_and_volume_normalized_path, sr=44100)\n",
    "\n",
    "    # Create the spectrogram\n",
    "    spectrogram = librosa.feature.melspectrogram(y=y, sr=sr)\n",
    "    spectrogram_db = librosa.amplitude_to_db(spectrogram, ref=np.max)\n",
    "\n",
    "    # Plot and save the spectrogram\n",
    "    plt.figure(figsize=(10, 4))\n",
    "    librosa.display.specshow(spectrogram_db, sr=sr, x_axis='time', y_axis='mel')\n",
    "    plt.colorbar(format='%+2.0f dB')\n",
    "    plt.tight_layout()\n",
    "\n",
    "    # Save the spectrogram as an image in the same directory as the Jupyter notebook\n",
    "    file_name = os.path.basename(sampling_and_volume_normalized_path).replace('.wav', '.png')\n",
    "    plt.savefig(file_name)\n",
    "    plt.close()\n"
   ]
  },
  {
   "cell_type": "code",
   "execution_count": 75,
   "id": "1b3479a9-3c94-496a-aced-39c2056e43b1",
   "metadata": {},
   "outputs": [
    {
     "name": "stdout",
     "output_type": "stream",
     "text": [
      "The current sampling rate is different from the target sampling rate, The current sampling rate is 48000\n",
      "The updated sampling rate is 44100\n",
      "Succesfully resampled.\n",
      "Audio successfully normalized.\n",
      "Spectrogram successfully created.\n"
     ]
    }
   ],
   "source": [
    "########Calling re-sampling on raw audio\n",
    "raw_file_path = '../Gunshot_Audio_Dataset/Gunshot_Audio_Dataset_Raw/IMI Desert Eagle/2 (8).wav'\n",
    "sampling_made_consistent_path = 'sampling_made_consistent.wav'\n",
    "resample_audio(raw_file_path, sampling_made_consistent_path)\n",
    "print(\"Succesfully resampled.\")\n",
    "\n",
    "\n",
    "#########Calling Volume normalization on re-sampled audio\n",
    "y, sr = librosa.load(sampling_made_consistent_path, sr=44100)\n",
    "\n",
    "sampling_and_volume_normalized_path = 'sampling_and_volume_normalized.wav'\n",
    "sf.write(sampling_and_volume_normalized_path, normalize_audio(y), sr)\n",
    "print(\"Audio successfully normalized.\")\n",
    "\n",
    "#########Calling to create Spectrogram on re-sampled and volume normalized audio\n",
    "create_spectrogram(sampling_and_volume_normalized_path)\n",
    "print(\"Spectrogram successfully created.\")"
   ]
  },
  {
   "cell_type": "code",
   "execution_count": null,
   "id": "6927e017-fb75-4ad9-88e2-8aa07133848a",
   "metadata": {},
   "outputs": [],
   "source": []
  }
 ],
 "metadata": {
  "kernelspec": {
   "display_name": "Python (gunshot)",
   "language": "python",
   "name": "gunshot"
  },
  "language_info": {
   "codemirror_mode": {
    "name": "ipython",
    "version": 3
   },
   "file_extension": ".py",
   "mimetype": "text/x-python",
   "name": "python",
   "nbconvert_exporter": "python",
   "pygments_lexer": "ipython3",
   "version": "3.8.19"
  }
 },
 "nbformat": 4,
 "nbformat_minor": 5
}
