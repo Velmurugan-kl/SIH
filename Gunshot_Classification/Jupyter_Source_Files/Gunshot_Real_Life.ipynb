{
 "cells": [
  {
   "cell_type": "code",
   "execution_count": 10,
   "id": "8217a90d-1aaf-43c4-8c50-ac0ced012b4e",
   "metadata": {},
   "outputs": [
    {
     "name": "stdout",
     "output_type": "stream",
     "text": [
      "1/1 [==============================] - 0s 113ms/step\n"
     ]
    },
    {
     "data": {
      "text/plain": [
       "'AK-12'"
      ]
     },
     "execution_count": 10,
     "metadata": {},
     "output_type": "execute_result"
    }
   ],
   "source": [
    "import numpy as np\n",
    "import librosa\n",
    "import tensorflow as tf\n",
    "\n",
    "# Path to your saved model\n",
    "model_path = 'gunshot_model.keras'\n",
    "\n",
    "# Load the trained model\n",
    "model = tf.keras.models.load_model(model_path)\n",
    "\n",
    "# Function to preprocess the audio file\n",
    "def preprocess_audio(audio_path, sr=44100, duration=1.0):\n",
    "    # Load the audio file\n",
    "    audio, _ = librosa.load(audio_path, sr=sr, duration=duration)\n",
    "    \n",
    "    # Normalize the audio\n",
    "    audio = librosa.util.normalize(audio)\n",
    "    \n",
    "    # Create a mel-spectrogram\n",
    "    spectrogram = librosa.feature.melspectrogram(y=audio, sr=sr, n_mels=128, fmax=8000)\n",
    "    spectrogram = librosa.power_to_db(spectrogram, ref=np.max)\n",
    "    \n",
    "    # Convert the spectrogram to an image format\n",
    "    spectrogram = np.stack((spectrogram,)*3, axis=-1)  # Convert to 3 channels\n",
    "    \n",
    "    # Resize the spectrogram to match the input shape of the model (128, 128, 3)\n",
    "    spectrogram = tf.image.resize(spectrogram, (128, 128))\n",
    "    \n",
    "    # Add batch dimension\n",
    "    spectrogram = np.expand_dims(spectrogram, axis=0)\n",
    "    \n",
    "    return spectrogram\n",
    "\n",
    "# Path to the audio file you want to test\n",
    "audio_path = r'D:/Gunshot_Audio_Dataset/Gunshot_Audio_Dataset_Raw/MG-42/7 (26).wav' #\"D:\\Gunshot_Audio_Dataset\\Gunshot_Audio_Dataset_Raw\\MG-42\\7 (26).wav\"\n",
    "\n",
    "# Preprocess the audio file\n",
    "input_data = preprocess_audio(audio_path)\n",
    "\n",
    "# Make a prediction using the trained model\n",
    "prediction = model.predict(input_data)\n",
    "\n",
    "# Decode the prediction (assuming you have a list of class labels)\n",
    "class_labels = ['AK-12', 'AK-47', 'IMI Desert Eagle', 'M4', 'M16', 'M249', 'MG-42', 'MP5', 'Zastava M92']\n",
    "predicted_class = np.argmax(prediction)\n",
    "\n",
    "predicted_gun_type = class_labels[predicted_class]\n",
    "predicted_gun_type\n"
   ]
  },
  {
   "cell_type": "code",
   "execution_count": null,
   "id": "baa24fd6-6458-42ee-87bd-c7f6761ea6e4",
   "metadata": {},
   "outputs": [],
   "source": []
  }
 ],
 "metadata": {
  "kernelspec": {
   "display_name": "Python (gunshot)",
   "language": "python",
   "name": "gunshot"
  },
  "language_info": {
   "codemirror_mode": {
    "name": "ipython",
    "version": 3
   },
   "file_extension": ".py",
   "mimetype": "text/x-python",
   "name": "python",
   "nbconvert_exporter": "python",
   "pygments_lexer": "ipython3",
   "version": "3.8.19"
  }
 },
 "nbformat": 4,
 "nbformat_minor": 5
}
