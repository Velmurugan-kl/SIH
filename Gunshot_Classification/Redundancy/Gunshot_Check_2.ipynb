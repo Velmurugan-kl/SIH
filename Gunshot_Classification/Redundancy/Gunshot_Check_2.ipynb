{
 "cells": [
  {
   "cell_type": "code",
   "execution_count": 3,
   "id": "0d192803-8f95-40ca-b613-df64ce748013",
   "metadata": {},
   "outputs": [],
   "source": [
    "import librosa\n",
    "import numpy as np\n",
    "import tensorflow as tf\n",
    "import os\n",
    "import matplotlib.pyplot as plt\n",
    "from tensorflow.keras.preprocessing import image"
   ]
  },
  {
   "cell_type": "code",
   "execution_count": 6,
   "id": "d1ab3750-9aaf-4d84-a315-a471889afd54",
   "metadata": {},
   "outputs": [],
   "source": [
    "def normalize_audio(y):\n",
    "    \"\"\"Normalize the audio to a range of -1 to 1.\"\"\"\n",
    "    return y / np.max(np.abs(y))\n",
    "\n",
    "def preprocess_audio(input_audio_path, target_sr=44100):\n",
    "    # Load the audio file with the original sampling rate\n",
    "    y, sr = librosa.load(input_audio_path, sr=None)\n",
    "    \n",
    "    # Resample the audio to the target sampling rate if necessary\n",
    "    if sr != target_sr:\n",
    "        y = librosa.resample(y, orig_sr=sr, target_sr=target_sr)\n",
    "    \n",
    "    # Normalize the audio volume\n",
    "    y_normalized = normalize_audio(y)\n",
    "    \n",
    "    # Create the spectrogram\n",
    "    spectrogram = librosa.feature.melspectrogram(y=y_normalized, sr=target_sr)\n",
    "    spectrogram_db = librosa.amplitude_to_db(spectrogram, ref=np.max)\n",
    "    \n",
    "    # Plot the spectrogram without axes\n",
    "    plt.figure(figsize=(2, 2))  # Size to match your desired input size\n",
    "    librosa.display.specshow(spectrogram_db, sr=target_sr, x_axis='time', y_axis='mel')\n",
    "    plt.axis('off')  # Remove axes for better formatting\n",
    "    \n",
    "    # Save the plot to a buffer and then load as an image\n",
    "    plt.savefig('temp_spectrogram.png', bbox_inches='tight', pad_inches=0)\n",
    "    plt.close()\n",
    "    \n",
    "    # Load the saved image as a numpy array\n",
    "    spectrogram_img = image.load_img('temp_spectrogram.png', target_size=(128, 128))\n",
    "    spectrogram_img = image.img_to_array(spectrogram_img)\n",
    "    spectrogram_img = np.expand_dims(spectrogram_img, axis=0)  # Add batch dimension\n",
    "    spectrogram_img = spectrogram_img / 255.0  # Normalize pixel values to [0, 1]\n",
    "    \n",
    "    # Optionally, remove the temporary file\n",
    "    os.remove('temp_spectrogram.png')\n",
    "    \n",
    "    return spectrogram_img"
   ]
  },
  {
   "cell_type": "code",
   "execution_count": 9,
   "id": "28f238a7-f5be-4663-9f52-aac3afda5be2",
   "metadata": {},
   "outputs": [],
   "source": [
    "def predict_gunshot(input_audio_path, model_path='../Trained_Models/gunshot_model.keras'):\n",
    "    # Preprocess the audio file\n",
    "    spectrogram_img = preprocess_audio(input_audio_path)\n",
    "    \n",
    "    # Load the trained model\n",
    "    model = tf.keras.models.load_model(model_path)\n",
    "    \n",
    "    # Predict the gun type\n",
    "    predictions = model.predict(spectrogram_img)\n",
    "    predicted_class = np.argmax(predictions, axis=1)\n",
    "    \n",
    "    return predicted_class\n",
    "\n"
   ]
  },
  {
   "cell_type": "code",
   "execution_count": 15,
   "id": "65cdfcd9-c520-4d99-878e-ea98f160333c",
   "metadata": {},
   "outputs": [
    {
     "name": "stdout",
     "output_type": "stream",
     "text": [
      "1/1 [==============================] - 0s 127ms/step\n",
      "The predicted gun type is: [0]\n"
     ]
    }
   ],
   "source": [
    "# Example usage\n",
    "input_audio_path = '../Gunshot_Audio_Dataset/Gunshot_Audio_Dataset_Raw/IMI Desert Eagle/2 (13).wav'\n",
    "model_path = '../Trained_Models/gunshot_model.keras'\n",
    "\n",
    "# Get the predicted gun type\n",
    "predicted_class = predict_gunshot(input_audio_path, model_path)\n",
    "\n",
    "print(f\"The predicted gun type is: {predicted_class}\")\n"
   ]
  },
  {
   "cell_type": "code",
   "execution_count": null,
   "id": "6c18dbfc-19f3-4b64-a93f-92f1781c7013",
   "metadata": {},
   "outputs": [],
   "source": []
  }
 ],
 "metadata": {
  "kernelspec": {
   "display_name": "Python (gunshot)",
   "language": "python",
   "name": "gunshot"
  },
  "language_info": {
   "codemirror_mode": {
    "name": "ipython",
    "version": 3
   },
   "file_extension": ".py",
   "mimetype": "text/x-python",
   "name": "python",
   "nbconvert_exporter": "python",
   "pygments_lexer": "ipython3",
   "version": "3.8.19"
  }
 },
 "nbformat": 4,
 "nbformat_minor": 5
}
